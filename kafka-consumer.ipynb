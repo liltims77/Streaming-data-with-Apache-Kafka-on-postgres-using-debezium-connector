{
 "cells": [
  {
   "cell_type": "code",
   "execution_count": null,
   "id": "491dc113",
   "metadata": {},
   "outputs": [
    {
     "name": "stdout",
     "output_type": "stream",
     "text": [
      "Topic Name=test,Message=b'Hello Kafka...'\n",
      "Topic Name=test,Message=b'first message...'\n",
      "Topic Name=test,Message=b'second message...'\n"
     ]
    }
   ],
   "source": [
    "from kafka import KafkaConsumer\n",
    "\n",
    "# Define server with port\n",
    "bootstrap_servers = ['localhost:29092']\n",
    "\n",
    "# Define topic name from where the message will recieve\n",
    "topicName = 'test'\n",
    "\n",
    "# Initialize consumer variable\n",
    "consumer = KafkaConsumer (topicName , auto_offset_reset='earliest', bootstrap_servers = bootstrap_servers)\n",
    "\n",
    "# Read and print message from consumer\n",
    "for msg in consumer:\n",
    "    print(\"Topic Name=%s,Message=%s\"%(msg.topic,msg.value))"
   ]
  },
  {
   "cell_type": "code",
   "execution_count": null,
   "id": "4f33b134",
   "metadata": {},
   "outputs": [],
   "source": []
  }
 ],
 "metadata": {
  "kernelspec": {
   "display_name": "Python 3 (ipykernel)",
   "language": "python",
   "name": "python3"
  },
  "language_info": {
   "codemirror_mode": {
    "name": "ipython",
    "version": 3
   },
   "file_extension": ".py",
   "mimetype": "text/x-python",
   "name": "python",
   "nbconvert_exporter": "python",
   "pygments_lexer": "ipython3",
   "version": "3.11.4"
  }
 },
 "nbformat": 4,
 "nbformat_minor": 5
}
