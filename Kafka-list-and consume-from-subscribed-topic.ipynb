{
 "cells": [
  {
   "cell_type": "code",
   "execution_count": 1,
   "id": "8cc951be",
   "metadata": {},
   "outputs": [
    {
     "data": {
      "text/plain": [
       "{'__confluent.support.metrics',\n",
       " '_schemas',\n",
       " 'connect-status',\n",
       " 'connect_configs',\n",
       " 'connect_offsets',\n",
       " 'source.public.yellow_trip_data_streaming',\n",
       " 'test'}"
      ]
     },
     "execution_count": 1,
     "metadata": {},
     "output_type": "execute_result"
    }
   ],
   "source": [
    "from kafka import KafkaConsumer\n",
    "\n",
    "bootstrap_servers = ['localhost:29092']\n",
    "consumer = KafkaConsumer(bootstrap_servers=bootstrap_servers)\n",
    "consumer.topics()"
   ]
  },
  {
   "cell_type": "code",
   "execution_count": null,
   "id": "17faa216",
   "metadata": {},
   "outputs": [],
   "source": [
    "from kafka import KafkaConsumer\n",
    "\n",
    "# Define server with port\n",
    "bootstrap_servers = ['localhost:29092']\n",
    "\n",
    "# Define topic name from where the message will recieve\n",
    "topicName = 'source.public.yellow_trip_data_streaming'\n",
    "\n",
    "# Initialize consumer variable\n",
    "consumer = KafkaConsumer (topicName , auto_offset_reset='earliest', bootstrap_servers = bootstrap_servers)\n",
    "\n",
    "# Read and print message from consumer\n",
    "for msg in consumer:\n",
    "    print(json.loads(msg.value))"
   ]
  },
  {
   "cell_type": "code",
   "execution_count": null,
   "id": "4ed50274",
   "metadata": {},
   "outputs": [],
   "source": []
  }
 ],
 "metadata": {
  "kernelspec": {
   "display_name": "Python 3 (ipykernel)",
   "language": "python",
   "name": "python3"
  },
  "language_info": {
   "codemirror_mode": {
    "name": "ipython",
    "version": 3
   },
   "file_extension": ".py",
   "mimetype": "text/x-python",
   "name": "python",
   "nbconvert_exporter": "python",
   "pygments_lexer": "ipython3",
   "version": "3.11.4"
  }
 },
 "nbformat": 4,
 "nbformat_minor": 5
}
